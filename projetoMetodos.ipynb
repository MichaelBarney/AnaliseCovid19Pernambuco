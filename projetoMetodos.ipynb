{
  "nbformat": 4,
  "nbformat_minor": 0,
  "metadata": {
    "colab": {
      "name": "projetoMetodos.ipynb",
      "provenance": [],
      "collapsed_sections": []
    },
    "kernelspec": {
      "name": "python3",
      "display_name": "Python 3"
    }
  },
  "cells": [
    {
      "cell_type": "markdown",
      "metadata": {
        "id": "b0ovOWgKDf5Y"
      },
      "source": [
        "# Análise da Evolução do vírus Covid19 em Pernambuco\n",
        "## Michael Barney - mbgj\n",
        "### Projeto da Disciplina Métodos Numéricos - 2020.3\n",
        "\n",
        "Este projeto tem como objetivo analisar a progressão da epidemia da doença coronavírus (Covid-19) no estado de Pernambuco entre Fevereiro e Novembro de 2020. Para isto, seráão utilizados modelos de previsão baseados em equações diferenciais, desde o modelo mais simples SIRD (Susceptíveis, Infectados, Recuperados e Mortos) até um mais realista, levando em conta infectados assintomáticos e taxas de isolamento social.\n",
        "\n",
        "Nesta análise, será verificado:\n",
        "\n",
        "1. Se o modelo final apresentado possui um resultado similar à evolução real do vírus no estado de Pernambuco. \n",
        "2. Quais foi o impacto das medidas de distanciamento social.os impactos do distanciamento social na progressão do víus.\n",
        "3. Os efeitos de uma \"segunda onda\" do vírus."
      ]
    },
    {
      "cell_type": "code",
      "metadata": {
        "id": "tTs5nMUi6-w0"
      },
      "source": [
        "import numpy as np\n",
        "import matplotlib.pyplot as plt\n",
        "from scipy.integrate import odeint\n",
        "import math"
      ],
      "execution_count": 104,
      "outputs": []
    },
    {
      "cell_type": "markdown",
      "metadata": {
        "id": "MjOXSF-3LRTm"
      },
      "source": [
        "## Parte 1 - O Modelo SIRD\n",
        "\n",
        "O modelo SIRD (Susceptível-Infectado-Recuperado-Morto) mapea o avanço de um vírus através do calculo de pessoas **susceptiveis** (que ainda podem ser infectadas), **infectadas** (que podem transmitir vírus), **recuperados** (que sobreviveram à doença e que agora estão imunes) e mortos (que morreram devido à doença provocada pelo vírus).\n",
        "\n",
        "Para fazer esta análise sobre o Covid-19 sobre a população de pernambuco, precisamos primeiro de alguns dados:"
      ]
    },
    {
      "cell_type": "code",
      "metadata": {
        "id": "refauOwdgeUQ"
      },
      "source": [
        "# População Total de Pernambuco: 9.6 milhões (IGBE, 2020) [1]\n",
        "N = 9.278 * 1000000"
      ],
      "execution_count": 105,
      "outputs": []
    },
    {
      "cell_type": "markdown",
      "metadata": {
        "id": "8gm7cnEaij07"
      },
      "source": [
        "Levaremos em consideração que o número de infectados iniciais será apenas referente à primeira notificação oficial feita, de um casal no dia 12 de março [2]. Devido à característica de crecimento exponencial inicial do vírus, pequenas mudanças em cima deste valor não acarretam em grandes mudanças nos resultados finais."
      ]
    },
    {
      "cell_type": "code",
      "metadata": {
        "id": "1MbK2JdtijCL"
      },
      "source": [
        "I0 = 2 # Pessoas Infectadas Iniciais"
      ],
      "execution_count": 106,
      "outputs": []
    },
    {
      "cell_type": "markdown",
      "metadata": {
        "id": "EwvvnN1Di7iY"
      },
      "source": [
        "Vamos também definir que inicialmente não havia nenhuma pessoa recuperada ou morta por causa do Covid19"
      ]
    },
    {
      "cell_type": "code",
      "metadata": {
        "id": "TGSSSooGjAe5"
      },
      "source": [
        "R0 = 0 # Pessoas recuperas Iniciais\n",
        "D0 = 0 # Pessoas mortas Iniciais"
      ],
      "execution_count": 107,
      "outputs": []
    },
    {
      "cell_type": "markdown",
      "metadata": {
        "id": "pxq9JjC5jCV4"
      },
      "source": [
        "Assim temos que o número de pessoas **Susceptiveis** é igual à toda a população, menos as pessoas infectadas, recuperadas e mortas.\n"
      ]
    },
    {
      "cell_type": "code",
      "metadata": {
        "id": "xuE0vOMqjHcM"
      },
      "source": [
        "S0 = N - I0 - R0 - D0 "
      ],
      "execution_count": 108,
      "outputs": []
    },
    {
      "cell_type": "markdown",
      "metadata": {
        "id": "248960nVkq31"
      },
      "source": [
        "Agora, precisamos de alguns dados característicos ao vírus.\n",
        "\n",
        "O primeiro dado necessário é um valor β (**beta**) que represente o número médio de contatos que são suficientes para a transmissão de uma pessoa sobre um dia. \n",
        "\n",
        "Em seguida, precisamos de um valor γ (**gamma**) que represente a probabilidade de uma pessoa se recuperar da doença. Esse valor é calculado como sendo 1/(número médio de dias para uma pessoa se recuperar).\n",
        "\n",
        "Finalmente, será nesessário um valor ρ (**mi**) que represente a probabilidade de uma pessoa infectada com o vírus falecer.\n",
        "\n",
        "Para os fins desta análise, será usado os valores obtidos por Saulo e Daniel em sua análise do Covid19 no Brasil feita em Junho de 2020 [2]. Nesta análise, os pesquisadorees usaram os dados reais informados pelas secretarias estaduais do Brasil para estimar estes parâmetros, sendo eles:"
      ]
    },
    {
      "cell_type": "code",
      "metadata": {
        "id": "sC_07x1I7CQV"
      },
      "source": [
        "beta = 0.4417 # Chance de Transmitir\n",
        "gamma = 0.1508 # média de 6.6 dias para se recuperar.\n",
        "mi = 0.0292 # 2.9% de chance de falecer"
      ],
      "execution_count": 109,
      "outputs": []
    },
    {
      "cell_type": "markdown",
      "metadata": {
        "id": "y8g48K1CpxxM"
      },
      "source": [
        "Ok! Tudo pronto para começar a usar este primeiro modelo. Vamos execulálo sobre um período de 270 dias, sendo aproximadamente equivalente ao período de Março (quando ocorreu a primeira notificação de uma pessoa infectada em Pernambuco) a Novembro (a data atua)"
      ]
    },
    {
      "cell_type": "code",
      "metadata": {
        "id": "Wg2QIq8jrcs1"
      },
      "source": [
        "dias = 270\n",
        "t = np.linspace(0, 270, 270)"
      ],
      "execution_count": 110,
      "outputs": []
    },
    {
      "cell_type": "markdown",
      "metadata": {
        "id": "2xIk1-WornQu"
      },
      "source": [
        "A função deriv apresentada a seguir será a responsável por calcular o avanço do vírus durante o período estabelecido aplicando uma série de equações:"
      ]
    },
    {
      "cell_type": "code",
      "metadata": {
        "id": "9V5HbhRF7L1y"
      },
      "source": [
        "def deriv (y, t, beta, gamma, mi):\n",
        "  S, I, R, D = y\n",
        "\n",
        "  N = S + I + R # atualizacao da população total, sem o número de mortos\n",
        "\n",
        "  dSdt = -beta*S*I/N                   # variação do número de pessoas susceptiveis\n",
        "  dIdt = beta*I*S/N - gamma*I/(1 - mi) # variação do número de pessoas infectadas\n",
        "  dRdt = gamma*I                       # variação do número de pessoas recuperadas\n",
        "  dDdt = mi/(1 - mi)*gamma*I           # variação do número de pessoas mortas\n",
        "\n",
        "  return dSdt, dIdt, dRdt, dDdt"
      ],
      "execution_count": 111,
      "outputs": []
    },
    {
      "cell_type": "markdown",
      "metadata": {
        "id": "0sMVvxdMtIP4"
      },
      "source": [
        "As equações diferenciais serão resolvidas com o pacote **Scipy.integrate**, usando a função **odeint**, os valores iniciais do vírus e as equações definidas em **deriv**."
      ]
    },
    {
      "cell_type": "code",
      "metadata": {
        "id": "yXoX5dFg_ny9"
      },
      "source": [
        "y0 = S0, I0, R0, D0                                # valor inicial do vetor\n",
        "ret = odeint(deriv, y0, t, args=(beta, gamma, mi)) # realização dos cálculos\n",
        "S, I, R, D = ret.T                                 # resultados"
      ],
      "execution_count": 112,
      "outputs": []
    },
    {
      "cell_type": "markdown",
      "metadata": {
        "id": "nZ2OfiJ6vCC_"
      },
      "source": [
        "O seguinte gráfico mostra os resultados destes cálculos:\n",
        "\n"
      ]
    },
    {
      "cell_type": "code",
      "metadata": {
        "id": "xXxnYO0gP-pn",
        "outputId": "ad6efcbd-ce90-4d12-b91c-2a2666fe1b59",
        "colab": {
          "base_uri": "https://localhost:8080/",
          "height": 280
        }
      },
      "source": [
        "escala = 1000000\n",
        "\n",
        "fig = plt.figure(facecolor='w')\n",
        "ax = fig.add_subplot(111, facecolor='#dddddd', axisbelow=True)\n",
        "ax.plot(t, S/escala, 'b', alpha=0.5, lw=2, label='Suscpeptíceis')\n",
        "ax.plot(t, I/escala, 'r', alpha=0.5, lw=2, label='Infectados')\n",
        "ax.plot(t, R/escala, 'y', alpha=0.5, lw=2, label='Recuperados com Imunidade')\n",
        "ax.plot(t, D/escala, 'g', alpha=0.5, lw=2, label='Mortos')\n",
        "\n",
        "ax.set_xlabel('Dias')\n",
        "ax.set_ylabel('Pessoas (Milhões)')\n",
        "ax.set_ylim(0,10)\n",
        "ax.yaxis.set_tick_params(length=0)\n",
        "ax.xaxis.set_tick_params(length=0)\n",
        "ax.grid(b=True, which='major', c='w', lw=2, ls='-')\n",
        "legend = ax.legend()\n",
        "legend.get_frame().set_alpha(0.5)\n",
        "for spine in ('top', 'right', 'bottom', 'left'):\n",
        "    ax.spines[spine].set_visible(False)\n",
        "plt.show()"
      ],
      "execution_count": 113,
      "outputs": [
        {
          "output_type": "display_data",
          "data": {
            "image/png": "[encoded data removed]",
            "text/plain": [
              "<Figure size 432x288 with 1 Axes>"
            ]
          },
          "metadata": {
            "tags": []
          }
        }
      ]
    },
    {
      "cell_type": "markdown",
      "metadata": {
        "id": "C3pTsO_4vhvw"
      },
      "source": [
        "Inicialmente, vemos que houve um pico de infectados perto do dia 50 (aproximadamente no meio de Maio), rapidamente diminuindo em seguida.\n",
        "\n",
        "Vamos ver também os dados do último dia análisado:"
      ]
    },
    {
      "cell_type": "code",
      "metadata": {
        "id": "qBlwJXQWxmZR",
        "outputId": "6f55a56b-d58f-4ee3-ef7f-aafe09481021",
        "colab": {
          "base_uri": "https://localhost:8080/",
          "height": 0
        }
      },
      "source": [
        "print(\"Susceptíveis:\", math.floor(S[dias-1]))\n",
        "print(\"Infectados:\", math.floor(I[dias-1]))\n",
        "print(\"Recuperados\", math.floor(R[dias-1]))\n",
        "print(\"Mortos\", math.floor(D[dias-1]))"
      ],
      "execution_count": 114,
      "outputs": [
        {
          "output_type": "stream",
          "text": [
            "Susceptíveis: 631976\n",
            "Infectados: 0\n",
            "Recuperados 8393559\n",
            "Mortos 252463\n"
          ],
          "name": "stdout"
        }
      ]
    },
    {
      "cell_type": "markdown",
      "metadata": {
        "id": "dPlOnW2-zUTn"
      },
      "source": [
        "Percebemos então um resultado impressionante (e provaelmente irrealista). Vemos que o número de pessoas Infectadas é igual a 0, garantindo assim que mais ninguém poderá ser infectado pelo vírus. Além disso, o número de mortos é igual a aproximadamente **250 mil pessoas**!\n",
        "\n",
        "Vamos então comparar com os dados reais da progressão do vírus em Pernambuco, obtidos do site **Brasil.io** [4], que compila diariamente boletins epidemiológicos das secretarias estaduais de saúde:\n",
        "\n",
        "![casos e óbitos confirmados acumulados por dia](https://i.imgur.com/YXw4IJ7.png)\n",
        "![casos e óbitos confirmados por dia](https://i.imgur.com/AB9QNl3.png)\n",
        "\n",
        "Vemos então que realmente os dados obtidos na análise com o modelo SIRD não estão corretos. Temos um número de óbitos no valor de aproximadamente 9 mil e um número de casos confirmados crescendo lentamente, e não repetinamente.\n",
        "\n",
        "Isto pode ser causado por alguns fatores, o fato de que diariamente pessoas entrem e saiam do estado, por exemplo, tornará muito difícil o número de pessoas infectadas chegar a zero.\n",
        "\n",
        "Além disso, existem outros dois fatores que ajudaram ao crescimento real ser mais lento e com um pico menor, o fato do Covid19 poder infeccionar uma pessoa de forma assintomática e os esforços realizados para aumentar o distanciamento social. A seguir, vamos apresentar outros modelos que levam em conta estes fatores."
      ]
    },
    {
      "cell_type": "markdown",
      "metadata": {
        "id": "0rDI5qJ0THcb"
      },
      "source": [
        "## Parte 2 - O Modelo SIRASD\n",
        "O modelo SIRASD (Susceptível-Infectado-Recuperado-Assintomático-Sintomático-Morto) promove um avanço em relação ao modelo anterior ao distinquir entre uma pessoa infectada **sintomática** (que apresenta sintomas) e **assintomática** (que não apresenta sintomas).\n",
        "\n",
        "Para fazer essa análise, precisaremos ajustar os valores de **Beta** e **Gamma** para que sejam de acordo com a transmissão e recuperação adequada. \n",
        "\n",
        "Além disso, será introduzido um parâmetro p, que representa a proporção de pessoas infectadas que desenvolvem sintomas.\n",
        "\n",
        "Novamente, os dados utilizados foram obtidos por Saulo e Daniel em sua análise do Covid19 no Brasil feita em Junho de 2020 [2]"
      ]
    },
    {
      "cell_type": "code",
      "metadata": {
        "id": "0lbl0yt-TS13"
      },
      "source": [
        "BetaS = 0.4417    # Chance de uma pessoa infectada Sintomática Transmitir\n",
        "BetaA = 0.4417    # Chance de uma pessoa infectada Assintomática Transmitir\n",
        "\n",
        "GammaS = 0.1508   # 6.6 dias para uma pessoa sintomática se Recuperar\n",
        "GammaA = 0.12     # 8.3 dias para uma pessoa assintomática se Recuperar\n",
        "\n",
        "p = 0.32          # 32% das pessoas infectadas desenvolvem sintomas\n",
        "\n",
        "t = np.linspace(0, dias, dias)"
      ],
      "execution_count": 115,
      "outputs": []
    },
    {
      "cell_type": "markdown",
      "metadata": {
        "id": "TssML1gQ69Jv"
      },
      "source": [
        "A função **deriv** agora também será adaptada para calcular de forma distinta as pessoas sintomáticas e assintomáticas:"
      ]
    },
    {
      "cell_type": "code",
      "metadata": {
        "id": "Wq9jyRWETVz6"
      },
      "source": [
        "def deriv (y, t, BetaA, BetaB, GammaA, GammaB, mi, p):\n",
        "  S, Ia, Is, Ra, Rs, D = y\n",
        "\n",
        "  N = S + Ia + Is + Ra + Rs\n",
        "  \n",
        "  dSdt = -(BetaA*Ia + BetaS*Is)*S/N                            # variação do número de pessoas susceptiveis                   \n",
        "  dIadt = (1 - p)*(BetaA*Ia + BetaS*Is)*S/N - GammaA*Ia        # variação do número de pessoas infectadas assintomáticas\n",
        "  dIsdt = p*(BetaA*Ia + BetaS*Is)*S/N - GammaS*Is/(1 - mi)     # variação do número de pessoas infectadas sintomáticas\n",
        "  dRadt = GammaA*Ia                                            # variação do número de pessoas recuperadas assintomáticas\n",
        "  dRsdt = GammaB*Is                                            # variação do número de pessoas recuperadas sintomáticas\n",
        "  dDdt = mi/(1 - mi)*GammaS*Is                                 # variação do número de pessoas que morreram\n",
        "  return dSdt, dIadt, dIsdt, dRadt, dRsdt, dDdt"
      ],
      "execution_count": 116,
      "outputs": []
    },
    {
      "cell_type": "markdown",
      "metadata": {
        "id": "KpVxzsfw7uL-"
      },
      "source": [
        "Agora é só realizar os cálculos para obter o novo gráfico e dados finais:\n"
      ]
    },
    {
      "cell_type": "code",
      "metadata": {
        "id": "J45yc1F7UWVl"
      },
      "source": [
        "y0 = S0, I0, I0, R0, R0, D0 # valor inicial do vetor\n",
        "ret = odeint(deriv, y0, t, args=(BetaA, BetaS, GammaA, GammaS, mi, p))\n",
        "S, Ia, Is, Ra, Rs, D = ret.T"
      ],
      "execution_count": 117,
      "outputs": []
    },
    {
      "cell_type": "code",
      "metadata": {
        "id": "ZVTn0asWUYBJ",
        "outputId": "34ed3aab-e073-49ab-b539-020e596b5596",
        "colab": {
          "base_uri": "https://localhost:8080/",
          "height": 389
        }
      },
      "source": [
        "scale = 1000000\n",
        "\n",
        "fig = plt.figure(facecolor='w', figsize=(8, 6))\n",
        "ax = fig.add_subplot(111, facecolor='#dddddd', axisbelow=True)\n",
        "ax.plot(t, S/scale, 'b', alpha=0.5, lw=2, label='Susceptivel')\n",
        "ax.plot(t, Ia/scale, 'r', alpha=0.5, lw=2, label='Infectado Assintomatico')\n",
        "ax.plot(t, Is/scale, 'r', alpha=0.5, lw=2, label='Infectado Sintomatico')\n",
        "ax.plot(t, (Ia+Is)/scale, 'm', alpha=0.5, lw=2, label='Infectado')\n",
        "ax.plot(t, Ra/scale, 'y', alpha=0.5, lw=2, label='Recuperado Sintomatico')\n",
        "ax.plot(t, Rs/scale, 'y', alpha=0.5, lw=2, label='Recuperado Assintomatico')\n",
        "ax.plot(t, (Ra + Rs)/scale, 'c', alpha=0.5, lw=2, label='Recuperado')\n",
        "ax.plot(t, D/scale, 'g', alpha=0.5, lw=2, label='Morto')\n",
        "\n",
        "ax.set_xlabel('Dias')\n",
        "ax.set_ylabel('Pessoas (Milhões)')\n",
        "ax.set_ylim(0,10)\n",
        "ax.yaxis.set_tick_params(length=0)\n",
        "ax.xaxis.set_tick_params(length=0)\n",
        "ax.grid(b=True, which='major', c='w', lw=2, ls='-')\n",
        "legend = ax.legend()\n",
        "legend.get_frame().set_alpha(0.5)\n",
        "for spine in ('top', 'right', 'bottom', 'left'):\n",
        "    ax.spines[spine].set_visible(False)\n",
        "plt.show()"
      ],
      "execution_count": 118,
      "outputs": [
        {
          "output_type": "display_data",
          "data": {
            "image/png": "[encoded data removed]",
            "text/plain": [
              "<Figure size 576x432 with 1 Axes>"
            ]
          },
          "metadata": {
            "tags": []
          }
        }
      ]
    },
    {
      "cell_type": "code",
      "metadata": {
        "id": "jn8j539v98Jr",
        "outputId": "5b97021b-df76-462c-891d-d04625419e6d",
        "colab": {
          "base_uri": "https://localhost:8080/",
          "height": 0
        }
      },
      "source": [
        "print(\"Susceptíveis:\", math.floor(S[dias-1]))\n",
        "print(\"Infectados:\", math.floor(Ia[dias-1] + Is[dias-1]))\n",
        "print(\"Recuperados Assintomáticos:\", math.floor(Ra[dias-1]))\n",
        "print(\"Recuperados Sintomáticos:  \", math.floor(Rs[dias-1]))\n",
        "print(\"Mortos:\", math.floor(D[dias-1]))"
      ],
      "execution_count": 119,
      "outputs": [
        {
          "output_type": "stream",
          "text": [
            "Susceptíveis: 341064\n",
            "Infectados: 0\n",
            "Recuperados Assintomáticos: 6077116\n",
            "Recuperados Sintomáticos:   2776313\n",
            "Mortos: 83506\n"
          ],
          "name": "stdout"
        }
      ]
    },
    {
      "cell_type": "markdown",
      "metadata": {
        "id": "_gymlMeP-Fge"
      },
      "source": [
        "Assim, vemos já que o número de pessoas que morreram já diminuiu bastante, visto que a maioria das pessoas que são infectadas não desenvolvem sintomas, portanto não tem como falecer. Também vemos que o número de pessoas susceptíveis no final aumentou bastante, tendo menos pessoas infectadas.\n",
        "\n",
        "Porém, o pico da curva ainda está muito elevado e tem uma variação muito rápida, pois ainda não estamos levando em conta o fator do distanciamento social, que será visto a seguir."
      ]
    },
    {
      "cell_type": "markdown",
      "metadata": {
        "id": "cD7as1rsRTI-"
      },
      "source": [
        "## Parte 3 - Modelo SIRASD levando em conta o Distanciamento Social\n",
        "\n",
        "A fim levar em conta o distanciamento social, precisaremos de alguma informação que represente o quanto a população de distanciou para se proteger do Covid19.\n",
        "\n",
        "Para isso, usaremos o **Índice de Isolamento** fornecido pela **Inloco** [5] referente aos meses de Março à Novembro. Este índice varia de 0% a 100%, sendo 0% um estado com nenhum isolamento (que nunca ocorre) e 100% um isolamento total (impraticável na realidade).\n",
        "\n",
        "A seguir mapeamos estes dados:\n"
      ]
    },
    {
      "cell_type": "code",
      "metadata": {
        "id": "ysta2JizRbGm"
      },
      "source": [
        "# Índice do primeiro dia de cada mes a partir de março de 2020\n",
        "indiceDeIsolamento = [\n",
        "                        42.2, #março\n",
        "                        50.8, #abril\n",
        "                        51.8, #maio\n",
        "                        44.2, #junho\n",
        "                        39.7, #julho\n",
        "                        37.2, #agosto\n",
        "                        35.7, #setembro\n",
        "                        35.4, #outubro\n",
        "                        34.6, #novembro\n",
        "                      ]"
      ],
      "execution_count": 120,
      "outputs": []
    },
    {
      "cell_type": "code",
      "metadata": {
        "id": "XBy9uZPbXOxL",
        "outputId": "895ef067-253b-42b2-8342-4f92ccb00461",
        "colab": {
          "base_uri": "https://localhost:8080/",
          "height": 268
        }
      },
      "source": [
        "plt.plot(indiceDeIsolamento) # plotting by columns\n",
        "plt.show()"
      ],
      "execution_count": 121,
      "outputs": [
        {
          "output_type": "display_data",
          "data": {
            "image/png": "[encoded data removed]",
            "text/plain": [
              "<Figure size 432x288 with 1 Axes>"
            ]
          },
          "metadata": {
            "tags": [],
            "needs_background": "light"
          }
        }
      ]
    },
    {
      "cell_type": "markdown",
      "metadata": {
        "id": "JUNy_xCpFecn"
      },
      "source": [
        "Observamos que houve um pico do Isolamento entre maio e junho, diminuindo em seguida. "
      ]
    },
    {
      "cell_type": "markdown",
      "metadata": {
        "id": "wuU9NhTlDmfP"
      },
      "source": [
        "Para a função **deriv**, precisaremos calcular um parâmetro ψ (**psi**) a partir do indice de isolamento. Este parâmetro servirá para multiplicar os fatores de infecção de maneira que diminua a taxa de contágio do virus de acordo com o índice de isolamento.\n",
        "\n",
        "psi será calculado como um valor entre **0** (quando houver 100% de isolamento, tornando a taxa de infecção igual a 0) e **1** (quando houver 0% de isolamento, tornando a infecção descontrolada)"
      ]
    },
    {
      "cell_type": "code",
      "metadata": {
        "id": "ZG04NelFVIAX"
      },
      "source": [
        "def deriv (y, t, BetaA, BetaB, GammaA, GammaB, mi, p):\n",
        "  S, Ia, Is, Ra, Rs, D = y\n",
        "  N = S + Ia + Is + Ra + Rs\n",
        "  \n",
        "  mes = math.floor(t/30.0) # março = 0, abril = 1... novembro = 9\n",
        "  if mes >= 9: mes = 8\n",
        "  psi = (100 - indiceDeIsolamento[mes])/100\n",
        "\n",
        "  dSdt = -(psi*BetaA*Ia + psi*BetaS*Is)*S/N\n",
        "  dIadt = (1 - p)*(psi*BetaA*Ia + psi*BetaS*Is)*S/N - GammaA*Ia\n",
        "  dIsdt = p*(psi*BetaA*Ia + psi*BetaS*Is)*S/N - GammaS*Is/(1 - mi)\n",
        "  dRadt = GammaA*Ia\n",
        "  dRsdt = GammaB*Is\n",
        "  dDdt = mi/(1 - mi)*GammaS*Is\n",
        "\n",
        "  return dSdt, dIadt, dIsdt, dRadt, dRsdt, dDdt"
      ],
      "execution_count": 122,
      "outputs": []
    },
    {
      "cell_type": "code",
      "metadata": {
        "id": "NJ5TEdUYVdIX"
      },
      "source": [
        "y0 = S0, I0, I0, R0, R0, D0 # valor inicial do vetor\n",
        "ret = odeint(deriv, y0, t, args=(BetaA, BetaS, GammaA, GammaS, mi, p))\n",
        "S, Ia, Is, Ra, Rs, D = ret.T"
      ],
      "execution_count": 123,
      "outputs": []
    },
    {
      "cell_type": "code",
      "metadata": {
        "id": "i-QiD494XkPO",
        "outputId": "b17bd14c-797c-49d4-87a8-b8701c2cf30a",
        "colab": {
          "base_uri": "https://localhost:8080/",
          "height": 389
        }
      },
      "source": [
        "scale = 1000000\n",
        "\n",
        "fig = plt.figure(facecolor='w', figsize=(8, 6))\n",
        "ax = fig.add_subplot(111, facecolor='#dddddd', axisbelow=True)\n",
        "ax.plot(t, S/scale, 'b', alpha=0.5, lw=2, label='Susceptivel')\n",
        "ax.plot(t, Ia/scale, 'r', alpha=0.5, lw=2, label='Infectado Assintomatico')\n",
        "ax.plot(t, Is/scale, 'r', alpha=0.5, lw=2, label='Infectado Sintomatico')\n",
        "ax.plot(t, (Ia+Is)/scale, 'm', alpha=0.5, lw=2, label='Infectado')\n",
        "ax.plot(t, Ra/scale, 'y', alpha=0.5, lw=2, label='Recuperado Sintomatico')\n",
        "ax.plot(t, Rs/scale, 'y', alpha=0.5, lw=2, label='Recuperado Assintomatico')\n",
        "ax.plot(t, (Ra + Rs)/scale, 'c', alpha=0.5, lw=2, label='Recuperado')\n",
        "ax.plot(t, D/scale, 'g', alpha=0.5, lw=2, label='Morto')\n",
        "\n",
        "ax.set_xlabel('Dias')\n",
        "ax.set_ylabel('Pessoas (Milhões)')\n",
        "ax.set_ylim(0,10)\n",
        "ax.yaxis.set_tick_params(length=0)\n",
        "ax.xaxis.set_tick_params(length=0)\n",
        "ax.grid(b=True, which='major', c='w', lw=2, ls='-')\n",
        "legend = ax.legend()\n",
        "legend.get_frame().set_alpha(0.5)\n",
        "for spine in ('top', 'right', 'bottom', 'left'):\n",
        "    ax.spines[spine].set_visible(False)\n",
        "plt.show()"
      ],
      "execution_count": 124,
      "outputs": [
        {
          "output_type": "display_data",
          "data": {
            "image/png": "[encoded data removed]",
            "text/plain": [
              "<Figure size 576x432 with 1 Axes>"
            ]
          },
          "metadata": {
            "tags": []
          }
        }
      ]
    },
    {
      "cell_type": "code",
      "metadata": {
        "id": "JpGmw9-VGn8s",
        "outputId": "7576b6bb-8fd2-4b83-db2d-a05d48274f5b",
        "colab": {
          "base_uri": "https://localhost:8080/",
          "height": 0
        }
      },
      "source": [
        "print(\"Susceptíveis:\", math.floor(S[dias-1]))\n",
        "print(\"Infectados:\", math.floor(Ia[dias-1] + Is[dias-1]))\n",
        "print(\"Recuperados Assintomáticos:\", math.floor(Ra[dias-1]))\n",
        "print(\"Recuperados Sintomáticos:  \", math.floor(Rs[dias-1]))\n",
        "print(\"Mortos:\", math.floor(D[dias-1]))"
      ],
      "execution_count": 125,
      "outputs": [
        {
          "output_type": "stream",
          "text": [
            "Susceptíveis: 1707501\n",
            "Infectados: 193\n",
            "Recuperados Assintomáticos: 5147786\n",
            "Recuperados Sintomáticos:   2351782\n",
            "Mortos: 70737\n"
          ],
          "name": "stdout"
        }
      ]
    },
    {
      "cell_type": "markdown",
      "metadata": {
        "id": "z4v29ma4HP8B"
      },
      "source": [
        "Observamos agora um resultado ainda mais similar à evlução real do vírus, com um pico menor e com ariação mais suave, tendo um ápice alguns dias depois. \n",
        "\n",
        "Vemos também que o número de pessoas infectadas está diferente de 0, pois o processo de evolução se tornou mais lento ao levar em conta o distanciamento.\n",
        "\n",
        "Porém, apesar de o número de mortos ter diminuido, ainda está diferente em relação aos dados reais, que apontam para **9 mil mortos** ao invés de **61 mil**. Além disso, o número de recuperados sintomáticos apontam para **2 milhões**, enquanto os dados reais estimam **180 mil**.\n",
        "\n",
        "Estas diferenças entre os dados podem ser devido à fatores como:\n",
        "1. Sub-notificação de infecções e mortes\n",
        "2. Uso intencivado de máscaras e outras medidas de proteção\n",
        "3. Diferença na densidade populacional de cidades do estado"
      ]
    },
    {
      "cell_type": "markdown",
      "metadata": {
        "id": "yqYl1djVIx0A"
      },
      "source": [
        "## Conclusão\n",
        "\n",
        "A partir destas análises, vimos que os modelos de previsão de evolução de um vírus são capazes de apresentar uma **visão geral**, que se torna mais avançada e similar ao mundo real na medida que **mais informações são adicionada**s.\n",
        "\n",
        "Apesar de levar em conta **infecções assintomáticas** e **medidas de isolamento** social, os resultados obtidos nestas análises ainda divergiram numericamente bastante aos resultados mensurados durante o ano pelas secretarias estaduais. \n",
        "\n",
        "Porém, **graficamente**, os resultados se assemelham muito aos dados reais, principalmente em relação ao periodo em que houve o pico de infecções. Podemos ver também, que os esforços feitos para aumentar o isolamento social levaram à uma **suavização de curva de infecção**, levando à um pico menor de infectados simultaneos e ainda diminuindo o número de mortos.\n",
        "\n",
        "Futuramente, pode-se analisar os impactos de outros fatores como o uso de máscara e a densidade populacional do estado para tornar os resultados ainda mais precisos."
      ]
    },
    {
      "cell_type": "markdown",
      "metadata": {
        "id": "5XQrRH_Eg5cC"
      },
      "source": [
        "## Referências:\n",
        "\n",
        "[1] IBGE 2020 - População de Pernambuco: https://www.ibge.gov.br/cidades-e-estados/pe.html\n",
        "\n",
        "[2] Notificação dos primeiros casos de Covid19 em Pernambuco: https://www.folhape.com.br/noticias/casal-do-recife-sao-primeiros-casos-de-coronavirus-em-pernambuco/133219/\n",
        "\n",
        "[3] Bastos, S.B., Cajueiro, D.O. Modeling and forecasting the early evolution of the Covid-19 pandemic in Brazil. Sci Rep 10, 19457 (2020). https://doi.org/10.1038/s41598-020-76257-1\n",
        "\n",
        "[4] Dados epidemiológicos atualizados de Pernambuco: https://brasil.io/covid19/PE/\n",
        "\n",
        "[5] Índice de Isolamento Social - Inloco: https://mapabrasileirodacovid.inloco.com.br/pt"
      ]
    }
  ]
}